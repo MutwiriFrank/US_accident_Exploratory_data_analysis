{
  "cells": [
    {
      "cell_type": "markdown",
      "metadata": {
        "id": "view-in-github",
        "colab_type": "text"
      },
      "source": [
        "<a href=\"https://colab.research.google.com/github/MutwiriFrank/US_accident_Exploratory_data_analysis/blob/Master/US_accidents_explaratory_data_analysis.ipynb\" target=\"_parent\"><img src=\"https://colab.research.google.com/assets/colab-badge.svg\" alt=\"Open In Colab\"/></a>"
      ]
    },
    {
      "cell_type": "markdown",
      "metadata": {
        "id": "wfezWPw45Twr"
      },
      "source": [
        "#     US Acidents Exploratory Data Analysis"
      ]
    },
    {
      "cell_type": "code",
      "execution_count": null,
      "metadata": {
        "id": "8Cs70UPP7HG5"
      },
      "outputs": [],
      "source": [
        "!pip install opendatasets --upgrade --quiet\n",
        "try:\n",
        "  from kiteconnect import KiteConnect\n",
        "except ImportError:\n",
        "  !pip install kiteconnect\n",
        "  from kiteconnect import KiteConnect"
      ]
    },
    {
      "cell_type": "markdown",
      "metadata": {
        "id": "Rq7UWsxGBgbU"
      },
      "source": [
        "## Download Data\n"
      ]
    },
    {
      "cell_type": "code",
      "execution_count": null,
      "metadata": {
        "id": "Qq9pJeqp7G0K"
      },
      "outputs": [],
      "source": [
        "import opendatasets as od\n",
        "\n",
        "#  {\"username\":\"frankinmutwiri\",\"key\":\"f36711ef81e152c8b58e6f0a220c9fcc\"}\n",
        "download_url = 'https://www.kaggle.com/datasets/sobhanmoosavi/us-accidents' \n",
        "\n",
        "od.download(download_url)"
      ]
    },
    {
      "cell_type": "code",
      "execution_count": null,
      "metadata": {
        "id": "AyAiNXDo7GjF"
      },
      "outputs": [],
      "source": [
        "data_filename = './us-accidents/US_Accidents_Dec21_updated.csv'"
      ]
    },
    {
      "cell_type": "markdown",
      "metadata": {
        "id": "rZCUsXU1BrlW"
      },
      "source": [
        "## Data Preparation and Cleaning\n",
        "\n",
        "- Load files using pandas\n",
        "- look at some information about data and columns\n",
        "- Fix any missing or incorrect data"
      ]
    },
    {
      "cell_type": "code",
      "execution_count": null,
      "metadata": {
        "id": "EjHucp75CWd7"
      },
      "outputs": [],
      "source": [
        "import pandas as pd\n",
        "pd.set_option('display.float_format', lambda x: '%.5f' % x)\n",
        "import seaborn as sns"
      ]
    },
    {
      "cell_type": "code",
      "execution_count": null,
      "metadata": {
        "colab": {
          "background_save": true
        },
        "id": "5j8Mv2loCWUJ"
      },
      "outputs": [],
      "source": [
        "df = pd.read_csv(data_filename)"
      ]
    },
    {
      "cell_type": "code",
      "execution_count": null,
      "metadata": {
        "colab": {
          "background_save": true,
          "base_uri": "https://localhost:8080/",
          "height": 783
        },
        "id": "sxVOBai9DcAw",
        "outputId": "948f05cf-52cb-4cb4-c344-a1dbf8af6c0e"
      },
      "outputs": [
        {
          "data": {
            "text/html": [
              "\n",
              "  <div id=\"df-ef326a9c-1e5d-48a2-ace0-f21ffd605491\">\n",
              "    <div class=\"colab-df-container\">\n",
              "      <div>\n",
              "<style scoped>\n",
              "    .dataframe tbody tr th:only-of-type {\n",
              "        vertical-align: middle;\n",
              "    }\n",
              "\n",
              "    .dataframe tbody tr th {\n",
              "        vertical-align: top;\n",
              "    }\n",
              "\n",
              "    .dataframe thead th {\n",
              "        text-align: right;\n",
              "    }\n",
              "</style>\n",
              "<table border=\"1\" class=\"dataframe\">\n",
              "  <thead>\n",
              "    <tr style=\"text-align: right;\">\n",
              "      <th></th>\n",
              "      <th>ID</th>\n",
              "      <th>Severity</th>\n",
              "      <th>Start_Time</th>\n",
              "      <th>End_Time</th>\n",
              "      <th>Start_Lat</th>\n",
              "      <th>Start_Lng</th>\n",
              "      <th>End_Lat</th>\n",
              "      <th>End_Lng</th>\n",
              "      <th>Distance(mi)</th>\n",
              "      <th>Description</th>\n",
              "      <th>...</th>\n",
              "      <th>Roundabout</th>\n",
              "      <th>Station</th>\n",
              "      <th>Stop</th>\n",
              "      <th>Traffic_Calming</th>\n",
              "      <th>Traffic_Signal</th>\n",
              "      <th>Turning_Loop</th>\n",
              "      <th>Sunrise_Sunset</th>\n",
              "      <th>Civil_Twilight</th>\n",
              "      <th>Nautical_Twilight</th>\n",
              "      <th>Astronomical_Twilight</th>\n",
              "    </tr>\n",
              "  </thead>\n",
              "  <tbody>\n",
              "    <tr>\n",
              "      <th>0</th>\n",
              "      <td>A-1</td>\n",
              "      <td>3</td>\n",
              "      <td>2016-02-08 00:37:08</td>\n",
              "      <td>2016-02-08 06:37:08</td>\n",
              "      <td>40.10891</td>\n",
              "      <td>-83.09286</td>\n",
              "      <td>40.11206</td>\n",
              "      <td>-83.03187</td>\n",
              "      <td>3.23000</td>\n",
              "      <td>Between Sawmill Rd/Exit 20 and OH-315/Olentang...</td>\n",
              "      <td>...</td>\n",
              "      <td>False</td>\n",
              "      <td>False</td>\n",
              "      <td>False</td>\n",
              "      <td>False</td>\n",
              "      <td>False</td>\n",
              "      <td>False</td>\n",
              "      <td>Night</td>\n",
              "      <td>Night</td>\n",
              "      <td>Night</td>\n",
              "      <td>Night</td>\n",
              "    </tr>\n",
              "    <tr>\n",
              "      <th>1</th>\n",
              "      <td>A-2</td>\n",
              "      <td>2</td>\n",
              "      <td>2016-02-08 05:56:20</td>\n",
              "      <td>2016-02-08 11:56:20</td>\n",
              "      <td>39.86542</td>\n",
              "      <td>-84.06280</td>\n",
              "      <td>39.86501</td>\n",
              "      <td>-84.04873</td>\n",
              "      <td>0.74700</td>\n",
              "      <td>At OH-4/OH-235/Exit 41 - Accident.</td>\n",
              "      <td>...</td>\n",
              "      <td>False</td>\n",
              "      <td>False</td>\n",
              "      <td>False</td>\n",
              "      <td>False</td>\n",
              "      <td>False</td>\n",
              "      <td>False</td>\n",
              "      <td>Night</td>\n",
              "      <td>Night</td>\n",
              "      <td>Night</td>\n",
              "      <td>Night</td>\n",
              "    </tr>\n",
              "    <tr>\n",
              "      <th>2</th>\n",
              "      <td>A-3</td>\n",
              "      <td>2</td>\n",
              "      <td>2016-02-08 06:15:39</td>\n",
              "      <td>2016-02-08 12:15:39</td>\n",
              "      <td>39.10266</td>\n",
              "      <td>-84.52468</td>\n",
              "      <td>39.10209</td>\n",
              "      <td>-84.52396</td>\n",
              "      <td>0.05500</td>\n",
              "      <td>At I-71/US-50/Exit 1 - Accident.</td>\n",
              "      <td>...</td>\n",
              "      <td>False</td>\n",
              "      <td>False</td>\n",
              "      <td>False</td>\n",
              "      <td>False</td>\n",
              "      <td>False</td>\n",
              "      <td>False</td>\n",
              "      <td>Night</td>\n",
              "      <td>Night</td>\n",
              "      <td>Night</td>\n",
              "      <td>Day</td>\n",
              "    </tr>\n",
              "    <tr>\n",
              "      <th>3</th>\n",
              "      <td>A-4</td>\n",
              "      <td>2</td>\n",
              "      <td>2016-02-08 06:51:45</td>\n",
              "      <td>2016-02-08 12:51:45</td>\n",
              "      <td>41.06213</td>\n",
              "      <td>-81.53784</td>\n",
              "      <td>41.06217</td>\n",
              "      <td>-81.53547</td>\n",
              "      <td>0.12300</td>\n",
              "      <td>At Dart Ave/Exit 21 - Accident.</td>\n",
              "      <td>...</td>\n",
              "      <td>False</td>\n",
              "      <td>False</td>\n",
              "      <td>False</td>\n",
              "      <td>False</td>\n",
              "      <td>False</td>\n",
              "      <td>False</td>\n",
              "      <td>Night</td>\n",
              "      <td>Night</td>\n",
              "      <td>Day</td>\n",
              "      <td>Day</td>\n",
              "    </tr>\n",
              "    <tr>\n",
              "      <th>4</th>\n",
              "      <td>A-5</td>\n",
              "      <td>3</td>\n",
              "      <td>2016-02-08 07:53:43</td>\n",
              "      <td>2016-02-08 13:53:43</td>\n",
              "      <td>39.17239</td>\n",
              "      <td>-84.49279</td>\n",
              "      <td>39.17048</td>\n",
              "      <td>-84.50180</td>\n",
              "      <td>0.50000</td>\n",
              "      <td>At Mitchell Ave/Exit 6 - Accident.</td>\n",
              "      <td>...</td>\n",
              "      <td>False</td>\n",
              "      <td>False</td>\n",
              "      <td>False</td>\n",
              "      <td>False</td>\n",
              "      <td>False</td>\n",
              "      <td>False</td>\n",
              "      <td>Day</td>\n",
              "      <td>Day</td>\n",
              "      <td>Day</td>\n",
              "      <td>Day</td>\n",
              "    </tr>\n",
              "    <tr>\n",
              "      <th>...</th>\n",
              "      <td>...</td>\n",
              "      <td>...</td>\n",
              "      <td>...</td>\n",
              "      <td>...</td>\n",
              "      <td>...</td>\n",
              "      <td>...</td>\n",
              "      <td>...</td>\n",
              "      <td>...</td>\n",
              "      <td>...</td>\n",
              "      <td>...</td>\n",
              "      <td>...</td>\n",
              "      <td>...</td>\n",
              "      <td>...</td>\n",
              "      <td>...</td>\n",
              "      <td>...</td>\n",
              "      <td>...</td>\n",
              "      <td>...</td>\n",
              "      <td>...</td>\n",
              "      <td>...</td>\n",
              "      <td>...</td>\n",
              "      <td>...</td>\n",
              "    </tr>\n",
              "    <tr>\n",
              "      <th>2845337</th>\n",
              "      <td>A-2845338</td>\n",
              "      <td>2</td>\n",
              "      <td>2019-08-23 18:03:25</td>\n",
              "      <td>2019-08-23 18:32:01</td>\n",
              "      <td>34.00248</td>\n",
              "      <td>-117.37936</td>\n",
              "      <td>33.99888</td>\n",
              "      <td>-117.37094</td>\n",
              "      <td>0.54300</td>\n",
              "      <td>At Market St - Accident.</td>\n",
              "      <td>...</td>\n",
              "      <td>False</td>\n",
              "      <td>False</td>\n",
              "      <td>False</td>\n",
              "      <td>False</td>\n",
              "      <td>False</td>\n",
              "      <td>False</td>\n",
              "      <td>Day</td>\n",
              "      <td>Day</td>\n",
              "      <td>Day</td>\n",
              "      <td>Day</td>\n",
              "    </tr>\n",
              "    <tr>\n",
              "      <th>2845338</th>\n",
              "      <td>A-2845339</td>\n",
              "      <td>2</td>\n",
              "      <td>2019-08-23 19:11:30</td>\n",
              "      <td>2019-08-23 19:38:23</td>\n",
              "      <td>32.76696</td>\n",
              "      <td>-117.14806</td>\n",
              "      <td>32.76555</td>\n",
              "      <td>-117.15363</td>\n",
              "      <td>0.33800</td>\n",
              "      <td>At Camino Del Rio/Mission Center Rd - Accident.</td>\n",
              "      <td>...</td>\n",
              "      <td>False</td>\n",
              "      <td>False</td>\n",
              "      <td>False</td>\n",
              "      <td>False</td>\n",
              "      <td>False</td>\n",
              "      <td>False</td>\n",
              "      <td>Day</td>\n",
              "      <td>Day</td>\n",
              "      <td>Day</td>\n",
              "      <td>Day</td>\n",
              "    </tr>\n",
              "    <tr>\n",
              "      <th>2845339</th>\n",
              "      <td>A-2845340</td>\n",
              "      <td>2</td>\n",
              "      <td>2019-08-23 19:00:21</td>\n",
              "      <td>2019-08-23 19:28:49</td>\n",
              "      <td>33.77545</td>\n",
              "      <td>-117.84779</td>\n",
              "      <td>33.77740</td>\n",
              "      <td>-117.85727</td>\n",
              "      <td>0.56100</td>\n",
              "      <td>At Glassell St/Grand Ave - Accident. in the ri...</td>\n",
              "      <td>...</td>\n",
              "      <td>False</td>\n",
              "      <td>False</td>\n",
              "      <td>False</td>\n",
              "      <td>False</td>\n",
              "      <td>False</td>\n",
              "      <td>False</td>\n",
              "      <td>Day</td>\n",
              "      <td>Day</td>\n",
              "      <td>Day</td>\n",
              "      <td>Day</td>\n",
              "    </tr>\n",
              "    <tr>\n",
              "      <th>2845340</th>\n",
              "      <td>A-2845341</td>\n",
              "      <td>2</td>\n",
              "      <td>2019-08-23 19:00:21</td>\n",
              "      <td>2019-08-23 19:29:42</td>\n",
              "      <td>33.99246</td>\n",
              "      <td>-118.40302</td>\n",
              "      <td>33.98311</td>\n",
              "      <td>-118.39565</td>\n",
              "      <td>0.77200</td>\n",
              "      <td>At CA-90/Marina Fwy/Jefferson Blvd - Accident.</td>\n",
              "      <td>...</td>\n",
              "      <td>False</td>\n",
              "      <td>False</td>\n",
              "      <td>False</td>\n",
              "      <td>False</td>\n",
              "      <td>False</td>\n",
              "      <td>False</td>\n",
              "      <td>Day</td>\n",
              "      <td>Day</td>\n",
              "      <td>Day</td>\n",
              "      <td>Day</td>\n",
              "    </tr>\n",
              "    <tr>\n",
              "      <th>2845341</th>\n",
              "      <td>A-2845342</td>\n",
              "      <td>2</td>\n",
              "      <td>2019-08-23 18:52:06</td>\n",
              "      <td>2019-08-23 19:21:31</td>\n",
              "      <td>34.13393</td>\n",
              "      <td>-117.23092</td>\n",
              "      <td>34.13736</td>\n",
              "      <td>-117.23934</td>\n",
              "      <td>0.53700</td>\n",
              "      <td>At Highland Ave/Arden Ave - Accident.</td>\n",
              "      <td>...</td>\n",
              "      <td>False</td>\n",
              "      <td>False</td>\n",
              "      <td>False</td>\n",
              "      <td>False</td>\n",
              "      <td>False</td>\n",
              "      <td>False</td>\n",
              "      <td>Day</td>\n",
              "      <td>Day</td>\n",
              "      <td>Day</td>\n",
              "      <td>Day</td>\n",
              "    </tr>\n",
              "  </tbody>\n",
              "</table>\n",
              "<p>2845342 rows × 47 columns</p>\n",
              "</div>\n",
              "      <button class=\"colab-df-convert\" onclick=\"convertToInteractive('df-ef326a9c-1e5d-48a2-ace0-f21ffd605491')\"\n",
              "              title=\"Convert this dataframe to an interactive table.\"\n",
              "              style=\"display:none;\">\n",
              "        \n",
              "  <svg xmlns=\"http://www.w3.org/2000/svg\" height=\"24px\"viewBox=\"0 0 24 24\"\n",
              "       width=\"24px\">\n",
              "    <path d=\"M0 0h24v24H0V0z\" fill=\"none\"/>\n",
              "    <path d=\"M18.56 5.44l.94 2.06.94-2.06 2.06-.94-2.06-.94-.94-2.06-.94 2.06-2.06.94zm-11 1L8.5 8.5l.94-2.06 2.06-.94-2.06-.94L8.5 2.5l-.94 2.06-2.06.94zm10 10l.94 2.06.94-2.06 2.06-.94-2.06-.94-.94-2.06-.94 2.06-2.06.94z\"/><path d=\"M17.41 7.96l-1.37-1.37c-.4-.4-.92-.59-1.43-.59-.52 0-1.04.2-1.43.59L10.3 9.45l-7.72 7.72c-.78.78-.78 2.05 0 2.83L4 21.41c.39.39.9.59 1.41.59.51 0 1.02-.2 1.41-.59l7.78-7.78 2.81-2.81c.8-.78.8-2.07 0-2.86zM5.41 20L4 18.59l7.72-7.72 1.47 1.35L5.41 20z\"/>\n",
              "  </svg>\n",
              "      </button>\n",
              "      \n",
              "  <style>\n",
              "    .colab-df-container {\n",
              "      display:flex;\n",
              "      flex-wrap:wrap;\n",
              "      gap: 12px;\n",
              "    }\n",
              "\n",
              "    .colab-df-convert {\n",
              "      background-color: #E8F0FE;\n",
              "      border: none;\n",
              "      border-radius: 50%;\n",
              "      cursor: pointer;\n",
              "      display: none;\n",
              "      fill: #1967D2;\n",
              "      height: 32px;\n",
              "      padding: 0 0 0 0;\n",
              "      width: 32px;\n",
              "    }\n",
              "\n",
              "    .colab-df-convert:hover {\n",
              "      background-color: #E2EBFA;\n",
              "      box-shadow: 0px 1px 2px rgba(60, 64, 67, 0.3), 0px 1px 3px 1px rgba(60, 64, 67, 0.15);\n",
              "      fill: #174EA6;\n",
              "    }\n",
              "\n",
              "    [theme=dark] .colab-df-convert {\n",
              "      background-color: #3B4455;\n",
              "      fill: #D2E3FC;\n",
              "    }\n",
              "\n",
              "    [theme=dark] .colab-df-convert:hover {\n",
              "      background-color: #434B5C;\n",
              "      box-shadow: 0px 1px 3px 1px rgba(0, 0, 0, 0.15);\n",
              "      filter: drop-shadow(0px 1px 2px rgba(0, 0, 0, 0.3));\n",
              "      fill: #FFFFFF;\n",
              "    }\n",
              "  </style>\n",
              "\n",
              "      <script>\n",
              "        const buttonEl =\n",
              "          document.querySelector('#df-ef326a9c-1e5d-48a2-ace0-f21ffd605491 button.colab-df-convert');\n",
              "        buttonEl.style.display =\n",
              "          google.colab.kernel.accessAllowed ? 'block' : 'none';\n",
              "\n",
              "        async function convertToInteractive(key) {\n",
              "          const element = document.querySelector('#df-ef326a9c-1e5d-48a2-ace0-f21ffd605491');\n",
              "          const dataTable =\n",
              "            await google.colab.kernel.invokeFunction('convertToInteractive',\n",
              "                                                     [key], {});\n",
              "          if (!dataTable) return;\n",
              "\n",
              "          const docLinkHtml = 'Like what you see? Visit the ' +\n",
              "            '<a target=\"_blank\" href=https://colab.research.google.com/notebooks/data_table.ipynb>data table notebook</a>'\n",
              "            + ' to learn more about interactive tables.';\n",
              "          element.innerHTML = '';\n",
              "          dataTable['output_type'] = 'display_data';\n",
              "          await google.colab.output.renderOutput(dataTable, element);\n",
              "          const docLink = document.createElement('div');\n",
              "          docLink.innerHTML = docLinkHtml;\n",
              "          element.appendChild(docLink);\n",
              "        }\n",
              "      </script>\n",
              "    </div>\n",
              "  </div>\n",
              "  "
            ],
            "text/plain": [
              "                ID  Severity           Start_Time             End_Time  \\\n",
              "0              A-1         3  2016-02-08 00:37:08  2016-02-08 06:37:08   \n",
              "1              A-2         2  2016-02-08 05:56:20  2016-02-08 11:56:20   \n",
              "2              A-3         2  2016-02-08 06:15:39  2016-02-08 12:15:39   \n",
              "3              A-4         2  2016-02-08 06:51:45  2016-02-08 12:51:45   \n",
              "4              A-5         3  2016-02-08 07:53:43  2016-02-08 13:53:43   \n",
              "...            ...       ...                  ...                  ...   \n",
              "2845337  A-2845338         2  2019-08-23 18:03:25  2019-08-23 18:32:01   \n",
              "2845338  A-2845339         2  2019-08-23 19:11:30  2019-08-23 19:38:23   \n",
              "2845339  A-2845340         2  2019-08-23 19:00:21  2019-08-23 19:28:49   \n",
              "2845340  A-2845341         2  2019-08-23 19:00:21  2019-08-23 19:29:42   \n",
              "2845341  A-2845342         2  2019-08-23 18:52:06  2019-08-23 19:21:31   \n",
              "\n",
              "         Start_Lat  Start_Lng  End_Lat    End_Lng  Distance(mi)  \\\n",
              "0         40.10891  -83.09286 40.11206  -83.03187       3.23000   \n",
              "1         39.86542  -84.06280 39.86501  -84.04873       0.74700   \n",
              "2         39.10266  -84.52468 39.10209  -84.52396       0.05500   \n",
              "3         41.06213  -81.53784 41.06217  -81.53547       0.12300   \n",
              "4         39.17239  -84.49279 39.17048  -84.50180       0.50000   \n",
              "...            ...        ...      ...        ...           ...   \n",
              "2845337   34.00248 -117.37936 33.99888 -117.37094       0.54300   \n",
              "2845338   32.76696 -117.14806 32.76555 -117.15363       0.33800   \n",
              "2845339   33.77545 -117.84779 33.77740 -117.85727       0.56100   \n",
              "2845340   33.99246 -118.40302 33.98311 -118.39565       0.77200   \n",
              "2845341   34.13393 -117.23092 34.13736 -117.23934       0.53700   \n",
              "\n",
              "                                               Description  ...  Roundabout  \\\n",
              "0        Between Sawmill Rd/Exit 20 and OH-315/Olentang...  ...       False   \n",
              "1                       At OH-4/OH-235/Exit 41 - Accident.  ...       False   \n",
              "2                         At I-71/US-50/Exit 1 - Accident.  ...       False   \n",
              "3                          At Dart Ave/Exit 21 - Accident.  ...       False   \n",
              "4                       At Mitchell Ave/Exit 6 - Accident.  ...       False   \n",
              "...                                                    ...  ...         ...   \n",
              "2845337                           At Market St - Accident.  ...       False   \n",
              "2845338    At Camino Del Rio/Mission Center Rd - Accident.  ...       False   \n",
              "2845339  At Glassell St/Grand Ave - Accident. in the ri...  ...       False   \n",
              "2845340     At CA-90/Marina Fwy/Jefferson Blvd - Accident.  ...       False   \n",
              "2845341              At Highland Ave/Arden Ave - Accident.  ...       False   \n",
              "\n",
              "        Station   Stop Traffic_Calming Traffic_Signal Turning_Loop  \\\n",
              "0         False  False           False          False        False   \n",
              "1         False  False           False          False        False   \n",
              "2         False  False           False          False        False   \n",
              "3         False  False           False          False        False   \n",
              "4         False  False           False          False        False   \n",
              "...         ...    ...             ...            ...          ...   \n",
              "2845337   False  False           False          False        False   \n",
              "2845338   False  False           False          False        False   \n",
              "2845339   False  False           False          False        False   \n",
              "2845340   False  False           False          False        False   \n",
              "2845341   False  False           False          False        False   \n",
              "\n",
              "        Sunrise_Sunset Civil_Twilight Nautical_Twilight Astronomical_Twilight  \n",
              "0                Night          Night             Night                 Night  \n",
              "1                Night          Night             Night                 Night  \n",
              "2                Night          Night             Night                   Day  \n",
              "3                Night          Night               Day                   Day  \n",
              "4                  Day            Day               Day                   Day  \n",
              "...                ...            ...               ...                   ...  \n",
              "2845337            Day            Day               Day                   Day  \n",
              "2845338            Day            Day               Day                   Day  \n",
              "2845339            Day            Day               Day                   Day  \n",
              "2845340            Day            Day               Day                   Day  \n",
              "2845341            Day            Day               Day                   Day  \n",
              "\n",
              "[2845342 rows x 47 columns]"
            ]
          },
          "execution_count": 8,
          "metadata": {},
          "output_type": "execute_result"
        }
      ],
      "source": [
        "df"
      ]
    },
    {
      "cell_type": "code",
      "execution_count": null,
      "metadata": {
        "colab": {
          "background_save": true,
          "base_uri": "https://localhost:8080/"
        },
        "id": "3pATN17zFU4m",
        "outputId": "1c50b92a-817b-4ad3-dde0-419bcf74964c"
      },
      "outputs": [
        {
          "data": {
            "text/plain": [
              "(2845342, 47)"
            ]
          },
          "execution_count": 9,
          "metadata": {},
          "output_type": "execute_result"
        }
      ],
      "source": [
        "df.shape"
      ]
    },
    {
      "cell_type": "code",
      "execution_count": null,
      "metadata": {
        "colab": {
          "background_save": true,
          "base_uri": "https://localhost:8080/"
        },
        "id": "iSqQ1ssjDb2F",
        "outputId": "dfdfda80-c9f9-4b4e-d19b-3f61dee84475"
      },
      "outputs": [
        {
          "name": "stdout",
          "output_type": "stream",
          "text": [
            "<class 'pandas.core.frame.DataFrame'>\n",
            "RangeIndex: 2845342 entries, 0 to 2845341\n",
            "Data columns (total 47 columns):\n",
            " #   Column                 Dtype  \n",
            "---  ------                 -----  \n",
            " 0   ID                     object \n",
            " 1   Severity               int64  \n",
            " 2   Start_Time             object \n",
            " 3   End_Time               object \n",
            " 4   Start_Lat              float64\n",
            " 5   Start_Lng              float64\n",
            " 6   End_Lat                float64\n",
            " 7   End_Lng                float64\n",
            " 8   Distance(mi)           float64\n",
            " 9   Description            object \n",
            " 10  Number                 float64\n",
            " 11  Street                 object \n",
            " 12  Side                   object \n",
            " 13  City                   object \n",
            " 14  County                 object \n",
            " 15  State                  object \n",
            " 16  Zipcode                object \n",
            " 17  Country                object \n",
            " 18  Timezone               object \n",
            " 19  Airport_Code           object \n",
            " 20  Weather_Timestamp      object \n",
            " 21  Temperature(F)         float64\n",
            " 22  Wind_Chill(F)          float64\n",
            " 23  Humidity(%)            float64\n",
            " 24  Pressure(in)           float64\n",
            " 25  Visibility(mi)         float64\n",
            " 26  Wind_Direction         object \n",
            " 27  Wind_Speed(mph)        float64\n",
            " 28  Precipitation(in)      float64\n",
            " 29  Weather_Condition      object \n",
            " 30  Amenity                bool   \n",
            " 31  Bump                   bool   \n",
            " 32  Crossing               bool   \n",
            " 33  Give_Way               bool   \n",
            " 34  Junction               bool   \n",
            " 35  No_Exit                bool   \n",
            " 36  Railway                bool   \n",
            " 37  Roundabout             bool   \n",
            " 38  Station                bool   \n",
            " 39  Stop                   bool   \n",
            " 40  Traffic_Calming        bool   \n",
            " 41  Traffic_Signal         bool   \n",
            " 42  Turning_Loop           bool   \n",
            " 43  Sunrise_Sunset         object \n",
            " 44  Civil_Twilight         object \n",
            " 45  Nautical_Twilight      object \n",
            " 46  Astronomical_Twilight  object \n",
            "dtypes: bool(13), float64(13), int64(1), object(20)\n",
            "memory usage: 773.4+ MB\n"
          ]
        }
      ],
      "source": [
        "df.info()"
      ]
    },
    {
      "cell_type": "code",
      "execution_count": null,
      "metadata": {
        "colab": {
          "background_save": true,
          "base_uri": "https://localhost:8080/",
          "height": 364
        },
        "id": "sdhXveJ5F4V7",
        "outputId": "7b37ec68-986f-4c5f-cbec-cec518774251"
      },
      "outputs": [
        {
          "data": {
            "text/html": [
              "\n",
              "  <div id=\"df-7a87865d-aa12-423a-bbd5-2395e0abb3d3\">\n",
              "    <div class=\"colab-df-container\">\n",
              "      <div>\n",
              "<style scoped>\n",
              "    .dataframe tbody tr th:only-of-type {\n",
              "        vertical-align: middle;\n",
              "    }\n",
              "\n",
              "    .dataframe tbody tr th {\n",
              "        vertical-align: top;\n",
              "    }\n",
              "\n",
              "    .dataframe thead th {\n",
              "        text-align: right;\n",
              "    }\n",
              "</style>\n",
              "<table border=\"1\" class=\"dataframe\">\n",
              "  <thead>\n",
              "    <tr style=\"text-align: right;\">\n",
              "      <th></th>\n",
              "      <th>Severity</th>\n",
              "      <th>Start_Lat</th>\n",
              "      <th>Start_Lng</th>\n",
              "      <th>End_Lat</th>\n",
              "      <th>End_Lng</th>\n",
              "      <th>Distance(mi)</th>\n",
              "      <th>Number</th>\n",
              "      <th>Temperature(F)</th>\n",
              "      <th>Wind_Chill(F)</th>\n",
              "      <th>Humidity(%)</th>\n",
              "      <th>Pressure(in)</th>\n",
              "      <th>Visibility(mi)</th>\n",
              "      <th>Wind_Speed(mph)</th>\n",
              "      <th>Precipitation(in)</th>\n",
              "    </tr>\n",
              "  </thead>\n",
              "  <tbody>\n",
              "    <tr>\n",
              "      <th>count</th>\n",
              "      <td>2845342.00000</td>\n",
              "      <td>2845342.00000</td>\n",
              "      <td>2845342.00000</td>\n",
              "      <td>2845342.00000</td>\n",
              "      <td>2845342.00000</td>\n",
              "      <td>2845342.00000</td>\n",
              "      <td>1101431.00000</td>\n",
              "      <td>2776068.00000</td>\n",
              "      <td>2375699.00000</td>\n",
              "      <td>2772250.00000</td>\n",
              "      <td>2786142.00000</td>\n",
              "      <td>2774796.00000</td>\n",
              "      <td>2687398.00000</td>\n",
              "      <td>2295884.00000</td>\n",
              "    </tr>\n",
              "    <tr>\n",
              "      <th>mean</th>\n",
              "      <td>2.13757</td>\n",
              "      <td>36.24520</td>\n",
              "      <td>-97.11463</td>\n",
              "      <td>36.24532</td>\n",
              "      <td>-97.11439</td>\n",
              "      <td>0.70268</td>\n",
              "      <td>8089.40811</td>\n",
              "      <td>61.79356</td>\n",
              "      <td>59.65823</td>\n",
              "      <td>64.36545</td>\n",
              "      <td>29.47234</td>\n",
              "      <td>9.09939</td>\n",
              "      <td>7.39504</td>\n",
              "      <td>0.00702</td>\n",
              "    </tr>\n",
              "    <tr>\n",
              "      <th>std</th>\n",
              "      <td>0.47872</td>\n",
              "      <td>5.36380</td>\n",
              "      <td>18.31782</td>\n",
              "      <td>5.36387</td>\n",
              "      <td>18.31763</td>\n",
              "      <td>1.56036</td>\n",
              "      <td>18360.09399</td>\n",
              "      <td>18.62263</td>\n",
              "      <td>21.16097</td>\n",
              "      <td>22.87457</td>\n",
              "      <td>1.04529</td>\n",
              "      <td>2.71755</td>\n",
              "      <td>5.52745</td>\n",
              "      <td>0.09349</td>\n",
              "    </tr>\n",
              "    <tr>\n",
              "      <th>min</th>\n",
              "      <td>1.00000</td>\n",
              "      <td>24.56603</td>\n",
              "      <td>-124.54807</td>\n",
              "      <td>24.56601</td>\n",
              "      <td>-124.54575</td>\n",
              "      <td>0.00000</td>\n",
              "      <td>0.00000</td>\n",
              "      <td>-89.00000</td>\n",
              "      <td>-89.00000</td>\n",
              "      <td>1.00000</td>\n",
              "      <td>0.00000</td>\n",
              "      <td>0.00000</td>\n",
              "      <td>0.00000</td>\n",
              "      <td>0.00000</td>\n",
              "    </tr>\n",
              "    <tr>\n",
              "      <th>25%</th>\n",
              "      <td>2.00000</td>\n",
              "      <td>33.44517</td>\n",
              "      <td>-118.03311</td>\n",
              "      <td>33.44628</td>\n",
              "      <td>-118.03333</td>\n",
              "      <td>0.05200</td>\n",
              "      <td>1270.00000</td>\n",
              "      <td>50.00000</td>\n",
              "      <td>46.00000</td>\n",
              "      <td>48.00000</td>\n",
              "      <td>29.31000</td>\n",
              "      <td>10.00000</td>\n",
              "      <td>3.50000</td>\n",
              "      <td>0.00000</td>\n",
              "    </tr>\n",
              "    <tr>\n",
              "      <th>50%</th>\n",
              "      <td>2.00000</td>\n",
              "      <td>36.09861</td>\n",
              "      <td>-92.41808</td>\n",
              "      <td>36.09799</td>\n",
              "      <td>-92.41772</td>\n",
              "      <td>0.24400</td>\n",
              "      <td>4007.00000</td>\n",
              "      <td>64.00000</td>\n",
              "      <td>63.00000</td>\n",
              "      <td>67.00000</td>\n",
              "      <td>29.82000</td>\n",
              "      <td>10.00000</td>\n",
              "      <td>7.00000</td>\n",
              "      <td>0.00000</td>\n",
              "    </tr>\n",
              "    <tr>\n",
              "      <th>75%</th>\n",
              "      <td>2.00000</td>\n",
              "      <td>40.16024</td>\n",
              "      <td>-80.37243</td>\n",
              "      <td>40.16105</td>\n",
              "      <td>-80.37338</td>\n",
              "      <td>0.76400</td>\n",
              "      <td>9567.00000</td>\n",
              "      <td>76.00000</td>\n",
              "      <td>76.00000</td>\n",
              "      <td>83.00000</td>\n",
              "      <td>30.01000</td>\n",
              "      <td>10.00000</td>\n",
              "      <td>10.00000</td>\n",
              "      <td>0.00000</td>\n",
              "    </tr>\n",
              "    <tr>\n",
              "      <th>max</th>\n",
              "      <td>4.00000</td>\n",
              "      <td>49.00058</td>\n",
              "      <td>-67.11317</td>\n",
              "      <td>49.07500</td>\n",
              "      <td>-67.10924</td>\n",
              "      <td>155.18600</td>\n",
              "      <td>9999997.00000</td>\n",
              "      <td>196.00000</td>\n",
              "      <td>196.00000</td>\n",
              "      <td>100.00000</td>\n",
              "      <td>58.90000</td>\n",
              "      <td>140.00000</td>\n",
              "      <td>1087.00000</td>\n",
              "      <td>24.00000</td>\n",
              "    </tr>\n",
              "  </tbody>\n",
              "</table>\n",
              "</div>\n",
              "      <button class=\"colab-df-convert\" onclick=\"convertToInteractive('df-7a87865d-aa12-423a-bbd5-2395e0abb3d3')\"\n",
              "              title=\"Convert this dataframe to an interactive table.\"\n",
              "              style=\"display:none;\">\n",
              "        \n",
              "  <svg xmlns=\"http://www.w3.org/2000/svg\" height=\"24px\"viewBox=\"0 0 24 24\"\n",
              "       width=\"24px\">\n",
              "    <path d=\"M0 0h24v24H0V0z\" fill=\"none\"/>\n",
              "    <path d=\"M18.56 5.44l.94 2.06.94-2.06 2.06-.94-2.06-.94-.94-2.06-.94 2.06-2.06.94zm-11 1L8.5 8.5l.94-2.06 2.06-.94-2.06-.94L8.5 2.5l-.94 2.06-2.06.94zm10 10l.94 2.06.94-2.06 2.06-.94-2.06-.94-.94-2.06-.94 2.06-2.06.94z\"/><path d=\"M17.41 7.96l-1.37-1.37c-.4-.4-.92-.59-1.43-.59-.52 0-1.04.2-1.43.59L10.3 9.45l-7.72 7.72c-.78.78-.78 2.05 0 2.83L4 21.41c.39.39.9.59 1.41.59.51 0 1.02-.2 1.41-.59l7.78-7.78 2.81-2.81c.8-.78.8-2.07 0-2.86zM5.41 20L4 18.59l7.72-7.72 1.47 1.35L5.41 20z\"/>\n",
              "  </svg>\n",
              "      </button>\n",
              "      \n",
              "  <style>\n",
              "    .colab-df-container {\n",
              "      display:flex;\n",
              "      flex-wrap:wrap;\n",
              "      gap: 12px;\n",
              "    }\n",
              "\n",
              "    .colab-df-convert {\n",
              "      background-color: #E8F0FE;\n",
              "      border: none;\n",
              "      border-radius: 50%;\n",
              "      cursor: pointer;\n",
              "      display: none;\n",
              "      fill: #1967D2;\n",
              "      height: 32px;\n",
              "      padding: 0 0 0 0;\n",
              "      width: 32px;\n",
              "    }\n",
              "\n",
              "    .colab-df-convert:hover {\n",
              "      background-color: #E2EBFA;\n",
              "      box-shadow: 0px 1px 2px rgba(60, 64, 67, 0.3), 0px 1px 3px 1px rgba(60, 64, 67, 0.15);\n",
              "      fill: #174EA6;\n",
              "    }\n",
              "\n",
              "    [theme=dark] .colab-df-convert {\n",
              "      background-color: #3B4455;\n",
              "      fill: #D2E3FC;\n",
              "    }\n",
              "\n",
              "    [theme=dark] .colab-df-convert:hover {\n",
              "      background-color: #434B5C;\n",
              "      box-shadow: 0px 1px 3px 1px rgba(0, 0, 0, 0.15);\n",
              "      filter: drop-shadow(0px 1px 2px rgba(0, 0, 0, 0.3));\n",
              "      fill: #FFFFFF;\n",
              "    }\n",
              "  </style>\n",
              "\n",
              "      <script>\n",
              "        const buttonEl =\n",
              "          document.querySelector('#df-7a87865d-aa12-423a-bbd5-2395e0abb3d3 button.colab-df-convert');\n",
              "        buttonEl.style.display =\n",
              "          google.colab.kernel.accessAllowed ? 'block' : 'none';\n",
              "\n",
              "        async function convertToInteractive(key) {\n",
              "          const element = document.querySelector('#df-7a87865d-aa12-423a-bbd5-2395e0abb3d3');\n",
              "          const dataTable =\n",
              "            await google.colab.kernel.invokeFunction('convertToInteractive',\n",
              "                                                     [key], {});\n",
              "          if (!dataTable) return;\n",
              "\n",
              "          const docLinkHtml = 'Like what you see? Visit the ' +\n",
              "            '<a target=\"_blank\" href=https://colab.research.google.com/notebooks/data_table.ipynb>data table notebook</a>'\n",
              "            + ' to learn more about interactive tables.';\n",
              "          element.innerHTML = '';\n",
              "          dataTable['output_type'] = 'display_data';\n",
              "          await google.colab.output.renderOutput(dataTable, element);\n",
              "          const docLink = document.createElement('div');\n",
              "          docLink.innerHTML = docLinkHtml;\n",
              "          element.appendChild(docLink);\n",
              "        }\n",
              "      </script>\n",
              "    </div>\n",
              "  </div>\n",
              "  "
            ],
            "text/plain": [
              "           Severity     Start_Lat     Start_Lng       End_Lat       End_Lng  \\\n",
              "count 2845342.00000 2845342.00000 2845342.00000 2845342.00000 2845342.00000   \n",
              "mean        2.13757      36.24520     -97.11463      36.24532     -97.11439   \n",
              "std         0.47872       5.36380      18.31782       5.36387      18.31763   \n",
              "min         1.00000      24.56603    -124.54807      24.56601    -124.54575   \n",
              "25%         2.00000      33.44517    -118.03311      33.44628    -118.03333   \n",
              "50%         2.00000      36.09861     -92.41808      36.09799     -92.41772   \n",
              "75%         2.00000      40.16024     -80.37243      40.16105     -80.37338   \n",
              "max         4.00000      49.00058     -67.11317      49.07500     -67.10924   \n",
              "\n",
              "       Distance(mi)        Number  Temperature(F)  Wind_Chill(F)  \\\n",
              "count 2845342.00000 1101431.00000   2776068.00000  2375699.00000   \n",
              "mean        0.70268    8089.40811        61.79356       59.65823   \n",
              "std         1.56036   18360.09399        18.62263       21.16097   \n",
              "min         0.00000       0.00000       -89.00000      -89.00000   \n",
              "25%         0.05200    1270.00000        50.00000       46.00000   \n",
              "50%         0.24400    4007.00000        64.00000       63.00000   \n",
              "75%         0.76400    9567.00000        76.00000       76.00000   \n",
              "max       155.18600 9999997.00000       196.00000      196.00000   \n",
              "\n",
              "        Humidity(%)  Pressure(in)  Visibility(mi)  Wind_Speed(mph)  \\\n",
              "count 2772250.00000 2786142.00000   2774796.00000    2687398.00000   \n",
              "mean       64.36545      29.47234         9.09939          7.39504   \n",
              "std        22.87457       1.04529         2.71755          5.52745   \n",
              "min         1.00000       0.00000         0.00000          0.00000   \n",
              "25%        48.00000      29.31000        10.00000          3.50000   \n",
              "50%        67.00000      29.82000        10.00000          7.00000   \n",
              "75%        83.00000      30.01000        10.00000         10.00000   \n",
              "max       100.00000      58.90000       140.00000       1087.00000   \n",
              "\n",
              "       Precipitation(in)  \n",
              "count      2295884.00000  \n",
              "mean             0.00702  \n",
              "std              0.09349  \n",
              "min              0.00000  \n",
              "25%              0.00000  \n",
              "50%              0.00000  \n",
              "75%              0.00000  \n",
              "max             24.00000  "
            ]
          },
          "execution_count": 11,
          "metadata": {},
          "output_type": "execute_result"
        }
      ],
      "source": [
        "df.describe()"
      ]
    },
    {
      "cell_type": "code",
      "execution_count": null,
      "metadata": {
        "colab": {
          "background_save": true,
          "base_uri": "https://localhost:8080/"
        },
        "id": "VxfOCiW8Ks-4",
        "outputId": "4f59edd6-323d-4e3b-ab97-2c79cea32b2b"
      },
      "outputs": [
        {
          "data": {
            "text/plain": [
              "14"
            ]
          },
          "execution_count": 12,
          "metadata": {},
          "output_type": "execute_result"
        }
      ],
      "source": [
        "# Identify numeric datatypes\n",
        "\n",
        "\n",
        "numerics = ['int16', 'int32', 'int64', 'float16', 'float32', 'float64']\n",
        "\n",
        "newdf = df.select_dtypes(include=numerics)\n",
        "len(newdf.columns)"
      ]
    },
    {
      "cell_type": "markdown",
      "metadata": {
        "id": "_EerS9wXKsnt"
      },
      "source": [
        "#### Find the percentage of missing values and remove the colomns with more than 50% of missing values"
      ]
    },
    {
      "cell_type": "code",
      "execution_count": null,
      "metadata": {
        "colab": {
          "background_save": true
        },
        "id": "c3xbN3kjKssC"
      },
      "outputs": [],
      "source": [
        "sum_missing_values = df.isna().sum().sort_values(ascending=False)  # show sum of missing values per column"
      ]
    },
    {
      "cell_type": "code",
      "execution_count": null,
      "metadata": {
        "colab": {
          "background_save": true,
          "base_uri": "https://localhost:8080/"
        },
        "id": "vVeV_X2HKsig",
        "outputId": "094b35b5-898e-4ded-90f7-95a10d018ac8"
      },
      "outputs": [
        {
          "data": {
            "text/plain": [
              "Number                  0.61290\n",
              "Precipitation(in)       0.19311\n",
              "Wind_Chill(F)           0.16506\n",
              "Wind_Speed(mph)         0.05551\n",
              "Wind_Direction          0.02593\n",
              "Humidity(%)             0.02569\n",
              "Weather_Condition       0.02483\n",
              "Visibility(mi)          0.02479\n",
              "Temperature(F)          0.02435\n",
              "Pressure(in)            0.02081\n",
              "Weather_Timestamp       0.01783\n",
              "Airport_Code            0.00336\n",
              "Timezone                0.00129\n",
              "Nautical_Twilight       0.00101\n",
              "Civil_Twilight          0.00101\n",
              "Sunrise_Sunset          0.00101\n",
              "Astronomical_Twilight   0.00101\n",
              "Zipcode                 0.00046\n",
              "City                    0.00005\n",
              "Street                  0.00000\n",
              "dtype: float64"
            ]
          },
          "execution_count": 14,
          "metadata": {},
          "output_type": "execute_result"
        }
      ],
      "source": [
        "percentage_missing_values = sum_missing_values / len(df)\n",
        "percentage_missing_values = percentage_missing_values[percentage_missing_values > 0]\n",
        "percentage_missing_values"
      ]
    },
    {
      "cell_type": "code",
      "execution_count": null,
      "metadata": {
        "colab": {
          "background_save": true,
          "base_uri": "https://localhost:8080/",
          "height": 282
        },
        "id": "Aiu34QSMKseO",
        "outputId": "013180b1-4225-448f-d4c1-8323691943cb"
      },
      "outputs": [
        {
          "data": {
            "text/plain": [
              "<matplotlib.axes._subplots.AxesSubplot at 0x7f12c3c58dd0>"
            ]
          },
          "execution_count": 15,
          "metadata": {},
          "output_type": "execute_result"
        },
        {
          "data": {
            "image/png": "[encoded data removed]",
            "text/plain": [
              "<Figure size 432x288 with 1 Axes>"
            ]
          },
          "metadata": {},
          "output_type": "display_data"
        }
      ],
      "source": [
        "#  A panda dF with one column is a pandas series i.e It can be plotted\n",
        "percentage_missing_values.plot(kind='barh')"
      ]
    },
    {
      "cell_type": "markdown",
      "metadata": {
        "id": "WdAanFbUKsZu"
      },
      "source": [
        "\n",
        "\n",
        "## Exploratory analysis and visualisation\n"
      ]
    },
    {
      "cell_type": "code",
      "execution_count": null,
      "metadata": {
        "colab": {
          "background_save": true,
          "base_uri": "https://localhost:8080/"
        },
        "id": "GY0zhJVZKsV8",
        "outputId": "d8a8a1ef-a94e-4510-faf8-a622b7657311"
      },
      "outputs": [
        {
          "data": {
            "text/plain": [
              "Index(['ID', 'Severity', 'Start_Time', 'End_Time', 'Start_Lat', 'Start_Lng',\n",
              "       'End_Lat', 'End_Lng', 'Distance(mi)', 'Description', 'Number', 'Street',\n",
              "       'Side', 'City', 'County', 'State', 'Zipcode', 'Country', 'Timezone',\n",
              "       'Airport_Code', 'Weather_Timestamp', 'Temperature(F)', 'Wind_Chill(F)',\n",
              "       'Humidity(%)', 'Pressure(in)', 'Visibility(mi)', 'Wind_Direction',\n",
              "       'Wind_Speed(mph)', 'Precipitation(in)', 'Weather_Condition', 'Amenity',\n",
              "       'Bump', 'Crossing', 'Give_Way', 'Junction', 'No_Exit', 'Railway',\n",
              "       'Roundabout', 'Station', 'Stop', 'Traffic_Calming', 'Traffic_Signal',\n",
              "       'Turning_Loop', 'Sunrise_Sunset', 'Civil_Twilight', 'Nautical_Twilight',\n",
              "       'Astronomical_Twilight'],\n",
              "      dtype='object')"
            ]
          },
          "execution_count": 16,
          "metadata": {},
          "output_type": "execute_result"
        }
      ],
      "source": [
        "df.columns"
      ]
    },
    {
      "cell_type": "code",
      "execution_count": null,
      "metadata": {
        "colab": {
          "background_save": true
        },
        "id": "spsEruiDKsMy"
      },
      "outputs": [],
      "source": [
        ""
      ]
    },
    {
      "cell_type": "code",
      "execution_count": null,
      "metadata": {
        "colab": {
          "background_save": true,
          "base_uri": "https://localhost:8080/"
        },
        "id": "dsrWyAHD_lf5",
        "outputId": "c11c5983-73d2-4bc3-f97c-2b1690c2b7c6"
      },
      "outputs": [
        {
          "data": {
            "text/plain": [
              "11682"
            ]
          },
          "execution_count": 17,
          "metadata": {},
          "output_type": "execute_result"
        }
      ],
      "source": [
        "len(df.City.unique())"
      ]
    },
    {
      "cell_type": "code",
      "execution_count": null,
      "metadata": {
        "colab": {
          "background_save": true,
          "base_uri": "https://localhost:8080/"
        },
        "id": "wtSYc6lw_l40",
        "outputId": "297c5a9b-1313-45ea-ded5-ca05f6db23d9"
      },
      "outputs": [
        {
          "data": {
            "text/plain": [
              "Miami                           106966\n",
              "Los Angeles                      68956\n",
              "Orlando                          54691\n",
              "Dallas                           41979\n",
              "Houston                          39448\n",
              "                                 ...  \n",
              "Ridgedale                            1\n",
              "Sekiu                                1\n",
              "Wooldridge                           1\n",
              "Bullock                              1\n",
              "American Fork-Pleasant Grove         1\n",
              "Name: City, Length: 11681, dtype: int64"
            ]
          },
          "execution_count": 18,
          "metadata": {},
          "output_type": "execute_result"
        }
      ],
      "source": [
        "#  Calculate how many time accidents have occured in a city\n",
        "cities_by_accident = df.City.value_counts()\n",
        "cities_by_accident"
      ]
    },
    {
      "cell_type": "code",
      "execution_count": null,
      "metadata": {
        "colab": {
          "background_save": true,
          "base_uri": "https://localhost:8080/"
        },
        "id": "ggGuPRKb_mYv",
        "outputId": "187bfe38-3823-466f-fd9b-b41fac2ebb19"
      },
      "outputs": [
        {
          "data": {
            "text/plain": [
              "True"
            ]
          },
          "execution_count": 19,
          "metadata": {},
          "output_type": "execute_result"
        }
      ],
      "source": [
        "# SEARCH FOR INDIVIVIDUAL VALUE IN COLUMN\n",
        "'New York' in df.City.unique()\n"
      ]
    },
    {
      "cell_type": "code",
      "execution_count": null,
      "metadata": {
        "colab": {
          "background_save": true,
          "base_uri": "https://localhost:8080/",
          "height": 282
        },
        "id": "YgLFf5Vd_mmD",
        "outputId": "a20396ca-2f97-4cb5-9106-359e6ae1f461"
      },
      "outputs": [
        {
          "data": {
            "text/plain": [
              "<matplotlib.axes._subplots.AxesSubplot at 0x7f12ccd97690>"
            ]
          },
          "execution_count": 20,
          "metadata": {},
          "output_type": "execute_result"
        },
        {
          "data": {
            "image/png": "[encoded data removed]",
            "text/plain": [
              "<Figure size 432x288 with 1 Axes>"
            ]
          },
          "metadata": {},
          "output_type": "display_data"
        }
      ],
      "source": [
        "cities_by_accident[:20].plot(kind='barh')"
      ]
    },
    {
      "cell_type": "code",
      "execution_count": null,
      "metadata": {
        "colab": {
          "background_save": true,
          "base_uri": "https://localhost:8080/",
          "height": 351
        },
        "id": "fSHoKq1O_h2M",
        "outputId": "b9c2bf75-c534-4325-aa90-132d838ab376"
      },
      "outputs": [
        {
          "name": "stderr",
          "output_type": "stream",
          "text": [
            "/usr/local/lib/python3.7/dist-packages/seaborn/distributions.py:2619: FutureWarning: `distplot` is a deprecated function and will be removed in a future version. Please adapt your code to use either `displot` (a figure-level function with similar flexibility) or `histplot` (an axes-level function for histograms).\n",
            "  warnings.warn(msg, FutureWarning)\n"
          ]
        },
        {
          "data": {
            "text/plain": [
              "<matplotlib.axes._subplots.AxesSubplot at 0x7f12cd3cb510>"
            ]
          },
          "execution_count": 21,
          "metadata": {},
          "output_type": "execute_result"
        },
        {
          "data": {
            "image/png": "[encoded data removed]",
            "text/plain": [
              "<Figure size 432x288 with 1 Axes>"
            ]
          },
          "metadata": {},
          "output_type": "display_data"
        }
      ],
      "source": [
        "sns.distplot(cities_by_accident)"
      ]
    },
    {
      "cell_type": "code",
      "execution_count": null,
      "metadata": {
        "colab": {
          "background_save": true,
          "base_uri": "https://localhost:8080/",
          "height": 386
        },
        "id": "5i0QM-vCelsd",
        "outputId": "d114c344-4aa7-481d-a9fe-1054cdeff2f9"
      },
      "outputs": [
        {
          "data": {
            "text/plain": [
              "<seaborn.axisgrid.FacetGrid at 0x7f127eb7fc90>"
            ]
          },
          "execution_count": 22,
          "metadata": {},
          "output_type": "execute_result"
        },
        {
          "data": {
            "image/png": "[encoded data removed]",
            "text/plain": [
              "<Figure size 360x360 with 1 Axes>"
            ]
          },
          "metadata": {},
          "output_type": "display_data"
        }
      ],
      "source": [
        "sns.displot(data=cities_by_accident,  log_scale=True  )"
      ]
    },
    {
      "cell_type": "code",
      "execution_count": null,
      "metadata": {
        "colab": {
          "background_save": true,
          "base_uri": "https://localhost:8080/"
        },
        "id": "RSCS6MyiDOz7",
        "outputId": "28701907-1306-403f-d79e-37ab8ca74e35"
      },
      "outputs": [
        {
          "data": {
            "text/plain": [
              "0.7470467385721623"
            ]
          },
          "execution_count": 23,
          "metadata": {},
          "output_type": "execute_result"
        }
      ],
      "source": [
        "low_accident_cities = cities_by_accident[cities_by_accident < 100  ]\n",
        "len(low_accident_cities) /  len(df.City.unique())"
      ]
    },
    {
      "cell_type": "code",
      "execution_count": null,
      "metadata": {
        "colab": {
          "background_save": true,
          "base_uri": "https://localhost:8080/",
          "height": 386
        },
        "id": "ApUyx4Z8DKv1",
        "outputId": "b073d3fc-ba5a-4ff1-ae2a-1a3ce1f5bab7"
      },
      "outputs": [
        {
          "data": {
            "text/plain": [
              "<seaborn.axisgrid.FacetGrid at 0x7f127e9f7210>"
            ]
          },
          "execution_count": 24,
          "metadata": {},
          "output_type": "execute_result"
        },
        {
          "data": {
            "image/png": "[encoded data removed]",
            "text/plain": [
              "<Figure size 360x360 with 1 Axes>"
            ]
          },
          "metadata": {},
          "output_type": "display_data"
        }
      ],
      "source": [
        "sns.displot(data=cities_by_accident,  log_scale=True, kind=\"ecdf\"  )"
      ]
    },
    {
      "cell_type": "code",
      "execution_count": null,
      "metadata": {
        "colab": {
          "base_uri": "https://localhost:8080/"
        },
        "id": "zGB7R8U8DPMX",
        "outputId": "760b382b-88ad-482e-d8c9-20f51f61d503"
      },
      "outputs": [
        {
          "data": {
            "text/plain": [
              "0.04245848313644924"
            ]
          },
          "execution_count": 24,
          "metadata": {},
          "output_type": "execute_result"
        }
      ],
      "source": [
        "high_accident_cities = cities_by_accident[cities_by_accident >= 1000 ]\n",
        "len(high_accident_cities) / len(df.City.unique())"
      ]
    },
    {
      "cell_type": "code",
      "execution_count": null,
      "metadata": {
        "colab": {
          "base_uri": "https://localhost:8080/",
          "height": 386
        },
        "id": "_P3etFocDOQh",
        "outputId": "0e10c613-2640-4229-ee92-8c5a4ebb83e7"
      },
      "outputs": [
        {
          "data": {
            "text/plain": [
              "<seaborn.axisgrid.FacetGrid at 0x7fda15a4d310>"
            ]
          },
          "execution_count": 25,
          "metadata": {},
          "output_type": "execute_result"
        },
        {
          "data": {
            "image/png": "[encoded data removed]",
            "text/plain": [
              "<Figure size 360x360 with 1 Axes>"
            ]
          },
          "metadata": {},
          "output_type": "display_data"
        }
      ],
      "source": [
        "low_accident_cities = cities_by_accident[cities_by_accident < 1000  ]\n",
        "\n",
        "sns.displot(data=low_accident_cities,  log_scale=True )"
      ]
    },
    {
      "cell_type": "markdown",
      "metadata": {
        "id": "-olons8KDMO1"
      },
      "source": [
        ""
      ]
    },
    {
      "cell_type": "markdown",
      "metadata": {
        "id": "O0v9Oii5DM6S"
      },
      "source": [
        "\n",
        "### Time\n",
        "\n"
      ]
    },
    {
      "cell_type": "code",
      "execution_count": null,
      "metadata": {
        "colab": {
          "base_uri": "https://localhost:8080/"
        },
        "id": "j7IuIA8iUk2O",
        "outputId": "4920d1ab-a077-4123-980f-b1e583e2ee86"
      },
      "outputs": [
        {
          "data": {
            "text/plain": [
              "dtype('<M8[ns]')"
            ]
          },
          "execution_count": 26,
          "metadata": {},
          "output_type": "execute_result"
        }
      ],
      "source": [
        "# Convertime dates and time from string to Timestamp and overwrite the current column dtype\n",
        "df.Start_Time = pd.to_datetime(df.Start_Time)\n",
        "df['Start_Time'].dtype\n"
      ]
    },
    {
      "cell_type": "code",
      "execution_count": null,
      "metadata": {
        "colab": {
          "base_uri": "https://localhost:8080/",
          "height": 297
        },
        "id": "pWMF3A-hUkNq",
        "outputId": "67d5cb18-ce4f-4a13-8ff8-988fbe44def1"
      },
      "outputs": [
        {
          "data": {
            "text/plain": [
              "<matplotlib.axes._subplots.AxesSubplot at 0x7fda159050d0>"
            ]
          },
          "execution_count": 44,
          "metadata": {},
          "output_type": "execute_result"
        },
        {
          "data": {
            "image/png": "[encoded data removed]",
            "text/plain": [
              "<Figure size 432x288 with 1 Axes>"
            ]
          },
          "metadata": {},
          "output_type": "display_data"
        }
      ],
      "source": [
        "# sns.histplot(df.Start_Time.dt.hour, bins=24 , stat=\"percent\" ) # All days\n",
        "\n",
        "weekday_accidents = df.Start_Time[df.Start_Time.dt.dayofweek < 6 ]\n",
        "\n",
        "sns.histplot(weekday_accidents.dt.hour, bins=24 , stat=\"percent\" )\n",
        "\n",
        "\n",
        "# stat=\"percent\" converts histogram y axis to percentage instead of actual values. ex 2.4% of accidents ocour at 12am"
      ]
    },
    {
      "cell_type": "markdown",
      "metadata": {
        "id": "QgZ4af0u9O7I"
      },
      "source": [
        "- There are more accidentd during the day than during the night\n",
        "- During the day there is are more accidents (LArgest peak) between 1pm and 6pm, with 3pm,4pm and 5pm recording the highest number of accident\n",
        "- Has a smaller peak between 6pm and 8pm\n",
        "- Has a bi modal distribution\n",
        " \n"
      ]
    },
    {
      "cell_type": "code",
      "execution_count": null,
      "metadata": {
        "colab": {
          "base_uri": "https://localhost:8080/",
          "height": 297
        },
        "id": "zdja2gSlUkA7",
        "outputId": "c2e3da08-4bee-458c-a460-bc3b6d9633c1"
      },
      "outputs": [
        {
          "data": {
            "text/plain": [
              "<matplotlib.axes._subplots.AxesSubplot at 0x7fda47d14b50>"
            ]
          },
          "execution_count": 51,
          "metadata": {},
          "output_type": "execute_result"
        },
        {
          "data": {
            "image/png": "[encoded data removed]",
            "text/plain": [
              "<Figure size 432x288 with 1 Axes>"
            ]
          },
          "metadata": {},
          "output_type": "display_data"
        }
      ],
      "source": [
        "weekend_accidents = df.Start_Time[df.Start_Time.dt.dayofweek > 5 ]\n",
        "  \n",
        "sns.histplot(weekend_accidents.dt.hour,  stat=\"percent\", bins=24)\n",
        " "
      ]
    },
    {
      "cell_type": "markdown",
      "metadata": {
        "id": "8iKpcetQDFIJ"
      },
      "source": [
        "\n",
        "- There are more accidentd during the day than during the night\n",
        "- During the day there is are more accidents (LArgest peak) between 12pm and 7pm, \n"
      ]
    },
    {
      "cell_type": "code",
      "execution_count": null,
      "metadata": {
        "colab": {
          "base_uri": "https://localhost:8080/",
          "height": 297
        },
        "id": "ihQS9LxfAmV4",
        "outputId": "97a2c296-7451-454c-c759-b098bf8c8368"
      },
      "outputs": [
        {
          "data": {
            "text/plain": [
              "<matplotlib.axes._subplots.AxesSubplot at 0x7fda2eacfd10>"
            ]
          },
          "execution_count": 29,
          "metadata": {},
          "output_type": "execute_result"
        },
        {
          "data": {
            "image/png": "[encoded data removed]",
            "text/plain": [
              "<Figure size 432x288 with 1 Axes>"
            ]
          },
          "metadata": {},
          "output_type": "display_data"
        }
      ],
      "source": [
        "sns.histplot(df.Start_Time.dt.dayofweek, stat=\"percent\", bins=7)"
      ]
    },
    {
      "cell_type": "markdown",
      "metadata": {
        "id": "aI-lF356Ezh4"
      },
      "source": [
        "- There are more accidents on weekdays than weekends\n",
        "- Rate of accidents increase from monday to friday and falls on saturday"
      ]
    },
    {
      "cell_type": "markdown",
      "metadata": {
        "id": "69Cd5vvkFGDJ"
      },
      "source": [
        "#### By Month"
      ]
    },
    {
      "cell_type": "code",
      "execution_count": null,
      "metadata": {
        "colab": {
          "base_uri": "https://localhost:8080/"
        },
        "id": "lYpzfJVk7OW7",
        "outputId": "1dc08240-8410-49ab-c1d8-9baf0ef6644f"
      },
      "outputs": [
        {
          "data": {
            "text/plain": [
              "0         2016-02-08 00:37:08\n",
              "1         2016-02-08 05:56:20\n",
              "2         2016-02-08 06:15:39\n",
              "3         2016-02-08 06:51:45\n",
              "4         2016-02-08 07:53:43\n",
              "                  ...        \n",
              "2845337   2019-08-23 18:03:25\n",
              "2845338   2019-08-23 19:11:30\n",
              "2845339   2019-08-23 19:00:21\n",
              "2845340   2019-08-23 19:00:21\n",
              "2845341   2019-08-23 18:52:06\n",
              "Name: Start_Time, Length: 2845342, dtype: datetime64[ns]"
            ]
          },
          "execution_count": 62,
          "metadata": {},
          "output_type": "execute_result"
        }
      ],
      "source": [
        "df.Start_Time"
      ]
    },
    {
      "cell_type": "code",
      "execution_count": null,
      "metadata": {
        "colab": {
          "base_uri": "https://localhost:8080/",
          "height": 297
        },
        "id": "1FFm4zlt7ORe",
        "outputId": "ce363a6b-d07b-4b3e-9979-1d8a7d1e4942"
      },
      "outputs": [
        {
          "data": {
            "text/plain": [
              "<matplotlib.axes._subplots.AxesSubplot at 0x7fda2dba3690>"
            ]
          },
          "execution_count": 63,
          "metadata": {},
          "output_type": "execute_result"
        },
        {
          "data": {
            "image/png": "[encoded data removed]",
            "text/plain": [
              "<Figure size 432x288 with 1 Axes>"
            ]
          },
          "metadata": {},
          "output_type": "display_data"
        }
      ],
      "source": [
        "sns.histplot(df.Start_Time.dt.month, stat=\"count\", bins=12)"
      ]
    },
    {
      "cell_type": "code",
      "execution_count": null,
      "metadata": {
        "colab": {
          "base_uri": "https://localhost:8080/"
        },
        "id": "sUzUB3iC7ONV",
        "outputId": "62ccc4a7-3b88-4026-bad3-e4b8d6070993"
      },
      "outputs": [
        {
          "data": {
            "text/plain": [
              "array([2016, 2017, 2021, 2020, 2018, 2019])"
            ]
          },
          "execution_count": 104,
          "metadata": {},
          "output_type": "execute_result"
        }
      ],
      "source": [
        "\n",
        "df['Start_Time'].dt.year.unique()\n"
      ]
    },
    {
      "cell_type": "code",
      "execution_count": null,
      "metadata": {
        "colab": {
          "base_uri": "https://localhost:8080/",
          "height": 297
        },
        "id": "vyChrzb07OJA",
        "outputId": "60b698bf-bd67-41d2-f52c-7fd1161562c2"
      },
      "outputs": [
        {
          "data": {
            "text/plain": [
              "<matplotlib.axes._subplots.AxesSubplot at 0x7fda42f7b3d0>"
            ]
          },
          "execution_count": 79,
          "metadata": {},
          "output_type": "execute_result"
        },
        {
          "data": {
            "image/png": "[encoded data removed]",
            "text/plain": [
              "<Figure size 432x288 with 1 Axes>"
            ]
          },
          "metadata": {},
          "output_type": "display_data"
        }
      ],
      "source": [
        "accidents_2018 = df.Start_Time[df.Start_Time.dt.year == 2018 ]\n",
        "  \n",
        "sns.histplot(accidents_2018.dt.month,  bins=12)"
      ]
    },
    {
      "cell_type": "code",
      "execution_count": null,
      "metadata": {
        "colab": {
          "base_uri": "https://localhost:8080/",
          "height": 297
        },
        "id": "zQoQdgpP7OEu",
        "outputId": "c2ac006c-f94c-47ce-a859-fe3f0285c98a"
      },
      "outputs": [
        {
          "data": {
            "text/plain": [
              "<matplotlib.axes._subplots.AxesSubplot at 0x7fda57bc19d0>"
            ]
          },
          "execution_count": 91,
          "metadata": {},
          "output_type": "execute_result"
        },
        {
          "data": {
            "image/png": "[encoded data removed]",
            "text/plain": [
              "<Figure size 432x288 with 1 Axes>"
            ]
          },
          "metadata": {},
          "output_type": "display_data"
        }
      ],
      "source": [
        "accidents_2019 = df.Start_Time[df.Start_Time.dt.year == 2019 ]\n",
        "\n",
        "sns.histplot(accidents_2019.dt.month,  bins=12)\n"
      ]
    },
    {
      "cell_type": "code",
      "execution_count": null,
      "metadata": {
        "colab": {
          "base_uri": "https://localhost:8080/",
          "height": 297
        },
        "id": "_GAciAVwPhH0",
        "outputId": "0c92f2da-cb81-472a-bcfd-db75fdc27210"
      },
      "outputs": [
        {
          "data": {
            "text/plain": [
              "<matplotlib.axes._subplots.AxesSubplot at 0x7fda4fd00b50>"
            ]
          },
          "execution_count": 115,
          "metadata": {},
          "output_type": "execute_result"
        },
        {
          "data": {
            "image/png": "[encoded data removed]",
            "text/plain": [
              "<Figure size 432x288 with 1 Axes>"
            ]
          },
          "metadata": {},
          "output_type": "display_data"
        }
      ],
      "source": [
        "accidents_2020 = df.Start_Time[df.Start_Time.dt.year == 2020 ]\n",
        "\n",
        "\n",
        "sns.histplot(accidents_2020.dt.month,  bins=12)\n"
      ]
    },
    {
      "cell_type": "code",
      "execution_count": null,
      "metadata": {
        "colab": {
          "base_uri": "https://localhost:8080/"
        },
        "id": "IRjf90czSAb6",
        "outputId": "5015fd06-3969-4cdf-81a2-d53356281178"
      },
      "outputs": [
        {
          "data": {
            "text/plain": [
              "186"
            ]
          },
          "execution_count": 112,
          "metadata": {},
          "output_type": "execute_result"
        }
      ],
      "source": [
        "july = accidents_2020[accidents_2020.dt.month == 7 ]\n",
        "\n",
        "len(july)"
      ]
    },
    {
      "cell_type": "code",
      "execution_count": null,
      "metadata": {
        "colab": {
          "background_save": true
        },
        "id": "3BhgjhMJVM0p",
        "outputId": "2402ab7c-d99e-479c-eecf-283a03f9f7a8"
      },
      "outputs": [
        {
          "data": {
            "text/plain": [
              "<matplotlib.axes._subplots.AxesSubplot at 0x7f12b05e3710>"
            ]
          },
          "execution_count": 39,
          "metadata": {},
          "output_type": "execute_result"
        },
        {
          "data": {
            "image/png": "[encoded data removed]",
            "text/plain": [
              "<Figure size 432x288 with 1 Axes>"
            ]
          },
          "metadata": {},
          "output_type": "display_data"
        }
      ],
      "source": [
        "\n",
        "\n",
        "\n"
      ]
    },
    {
      "cell_type": "code",
      "execution_count": null,
      "metadata": {
        "colab": {
          "base_uri": "https://localhost:8080/"
        },
        "id": "8B3S_KMf7N8O",
        "outputId": "39f06f3f-723a-47d2-8e7b-57f8527ebe6d"
      },
      "outputs": [
        {
          "name": "stdout",
          "output_type": "stream",
          "text": [
            " There were 163918 accidents in 2017  \n",
            " There were 163176 accidents in 2018 and 163918 accidents in 2017, an decrease of 0.453 percent  \n",
            " There were 258615 accidents in 2019 and 163176 accidents in 2018, an increace of 58.488 percent \n",
            " There were 625864 accidents in 2020 and 258615 accidents in 2019, an increace of 142.006 percent \n",
            " There were 1511745 accidents in 2021 and 625864 accidents in 2020, an increace of 141.545 percent \n",
            " There overall increase in accidenty from 2017 -  163918 to 2020 - 625864is 215.3546137819079 percent \n"
          ]
        }
      ],
      "source": [
        "accidents_2017 = df.Start_Time[df.Start_Time.dt.year == 2017 ]\n",
        "accidents_2021 = df.Start_Time[df.Start_Time.dt.year == 2021 ]\n",
        "\n",
        "count_2017 = len(accidents_2017 )\n",
        "count_2018 = len(accidents_2018 )\n",
        "decrease = ((count_2017 - count_2018) /count_2017) * 100\n",
        "decrease = round(decrease, 3)\n",
        "\n",
        "count_2019 =len(accidents_2019 )\n",
        "increase_2019 = ((count_2019 - count_2018) /count_2018) * 100\n",
        "increase_2019 = round(increase_2019, 3)\n",
        "\n",
        "count_2020 = len(accidents_2020 )\n",
        "increase_2020 = ((count_2020 - count_2019) /count_2019) * 100\n",
        "increase_2020 = round(increase_2020, 3)\n",
        "\n",
        "count_2021 = len(accidents_2021 )\n",
        "increase_2021 = ((count_2021 - count_2020) /count_2020) * 100\n",
        "increase_2021 = round(increase_2021, 3)\n",
        "\n",
        "\n",
        "increase_2017_2021 = ((count_2021 - count_2017) /count_2020) * 100\n",
        "\n",
        "\n",
        "\n",
        "increase2 = ((count_2020 - count_2019)/count_2019) * 100\n",
        "\n",
        "print( f\" There were {count_2017} accidents in 2017  \")\n",
        "\n",
        "print( f\" There were {count_2018} accidents in 2018 and {count_2017} accidents in 2017, an decrease of {decrease} percent  \")\n",
        "\n",
        "print( f\" There were {count_2019} accidents in 2019 and {count_2018} accidents in 2018, an increace of {increase_2019 } percent \")\n",
        "\n",
        "print( f\" There were {count_2020} accidents in 2020 and {count_2019} accidents in 2019, an increace of {increase_2020 } percent \")\n",
        "\n",
        "print( f\" There were {count_2021} accidents in 2021 and {count_2020} accidents in 2020, an increace of {increase_2021 } percent \")\n",
        "\n",
        "print( f\" There overall increase in accidenty from 2017 -  {count_2017} to 2020 - {count_2020}is {increase_2017_2021 } percent \")\n",
        "\n"
      ]
    },
    {
      "cell_type": "markdown",
      "metadata": {
        "id": "ldEegtc8R77a"
      },
      "source": [
        "## Insights\n",
        "#### Cities\n",
        "- Less then 4.2% of the cities have less more than 1000 accidents for the given period\n",
        "- 74.7% of the cities have less than 100 accidents for the given *period*\n",
        "- Over 1200 cities have reported just one acident\n",
        "- The number of accidents per city decreases exponetially\n",
        "#### Time\n",
        "- There are more accidents during the day than night due to higher traffic\n",
        "- During the day there is a spike at 7am,8am, 9am and \n"
      ]
    },
    {
      "cell_type": "markdown",
      "metadata": {
        "id": "QDeuygubKvOT"
      },
      "source": [
        "# Questions\n",
        "- Is there a relationship between accidents and temperature\n",
        "- relationship between states and accidents(do some states have more accidents than others), How about per capita \n",
        "- Do seasons affect acciddents\n",
        "- Weather condition -snow, rain, do precipitation affect accidents, wind\n",
        "##### DateTIme\n",
        "- Is there a relationship between time of the day and accidents - satart time\n",
        "- Do weekends and weekdays have same ratio of accidents\n",
        "-Have accidents increased over the years or reduced\n",
        "-  o some months have more accidents\n",
        "\n",
        "\n",
        "\n",
        "- Are some areas have a longer accident time than others\n",
        "- Which strrets have the highest o of accidents\n",
        "- side of street, right or left\n",
        "- city, state, county\n",
        "-  Visibility\n",
        "- plot boxplt\n",
        "- ho skewed is fdata,\n",
        "- do 10% of cities contain 90% of accidents\n",
        "- Why does new york have high population and less accidents\n",
        "- corelation between month and accident\n"
      ]
    }
  ],
  "metadata": {
    "colab": {
      "collapsed_sections": [],
      "name": "US-accidents-explaratory-data-analysis.ipynb",
      "provenance": [],
      "authorship_tag": "ABX9TyNDx721DTRKXWkm0jnTDhbm",
      "include_colab_link": true
    },
    "kernelspec": {
      "display_name": "Python 3",
      "name": "python3"
    },
    "language_info": {
      "name": "python"
    }
  },
  "nbformat": 4,
  "nbformat_minor": 0
}